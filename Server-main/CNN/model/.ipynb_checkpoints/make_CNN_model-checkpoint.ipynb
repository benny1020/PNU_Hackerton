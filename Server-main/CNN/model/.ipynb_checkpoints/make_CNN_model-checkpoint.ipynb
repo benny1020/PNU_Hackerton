{
 "cells": [
  {
   "cell_type": "code",
   "execution_count": 2,
   "metadata": {},
   "outputs": [],
   "source": [
    "import os\n",
    "\n",
    "import tensorflow as tf\n",
    "tf.get_logger().setLevel('ERROR')\n",
    "\n",
    "import tensorflow_hub as hub\n",
    "from tensorflow.keras.preprocessing import image\n",
    "from tensorflow.keras.preprocessing.image import ImageDataGenerator\n",
    "from tensorflow.keras import Sequential\n",
    "from tensorflow.keras.layers import Dropout, Dense\n",
    "from tensorflow.keras.layers.experimental.preprocessing import Rescaling\n",
    "\n",
    "import numpy as np\n",
    "import urllib.request, urllib.error, json"
   ]
  },
  {
   "cell_type": "code",
   "execution_count": null,
   "metadata": {},
   "outputs": [],
   "source": [
    "class roopre:\n",
    "    IMAGESIZE=(224,224)\n",
    "    INPUTLAYERSIZE=IMAGESIZE + (3,)\n",
    "    \n",
    "    def __init__(self):\n",
    "        #print(\"MLFORKIDS: Downloading information about your machine learning project\")\n",
    "        #f = open(\"info.txt\",\"r\")\n",
    "        #print(json.loads(f.read()))\n",
    "        #self.__downloaded_training_images_list = json.loads(f.read())\n",
    "        #self.scratchkey = scratchkey\n",
    "    def __define_model(self):\n",
    "        #print(\"MLFORKIDS: Defining the layers to include in your neural network\")\n",
    "        model = Sequential([\n",
    "            # input layer is resizing all images to save having to do that in a manual pre-processing step\n",
    "            Rescaling(1/127, input_shape=MLforKidsImageProject.INPUTLAYERSIZE),\n",
    "            # using an existing pre-trained model as an untrainable main layer\n",
    "            hub.KerasLayer(\"https://tfhub.dev/google/imagenet/mobilenet_v2_140_224/classification/4\"),\n",
    "            #\n",
    "            Dropout(rate=0.2),\n",
    "            #\n",
    "            Dense(self.num_classes)\n",
    "        ])\n",
    "        model.build((None,) + MLforKidsImageProject.INPUTLAYERSIZE)\n",
    "\n",
    "        # model compile parameters copied from tutorial at https://www.tensorflow.org/hub/tutorials/tf2_image_retraining\n",
    "        model.compile(\n",
    "            optimizer=tf.keras.optimizers.SGD(lr=0.005, momentum=0.9),\n",
    "            loss=tf.keras.losses.CategoricalCrossentropy(from_logits=True, label_smoothing=0.1),\n",
    "            metrics=['accuracy'])\n",
    "\n",
    "        return model\n",
    "        \n",
    "    def train_model(self):\n",
    "        trainingimagesdata = ImageDataGenerator().flow_from_directory(\"./dataset_2/train\",target_size = (224,224))\n",
    "        self.num_classes = trainingimagesdata.num_classes\n",
    "        self.ml_class_names = self.__get_class_lookup(trainingimagesdata)\n",
    "        self.ml_model = self.__define_model()\n",
    "        if trainingimagesdata.batch_size > trainingimagesdata.samples:\n",
    "            trainingimagesdata.batch_size = trainingimagesdata.samples\n",
    "        steps_per_epoch = trainingimagesdata.samples // trainingimagesdata.batch_size\n",
    "        epochs = 8\n",
    "        if trainingimagesdata.samples > 55:\n",
    "            epochs = 15\n",
    "        self.ml_model.fit(trainingimagesdata, epochs=epochs, steps_per_epoch=steps_per_epoch, verbose=0)\n",
    "        print(\"MLFORKIDS: Model training complete\")\n",
    "        "
   ]
  },
  {
   "cell_type": "code",
   "execution_count": 8,
   "metadata": {},
   "outputs": [],
   "source": [
    "def __get_class_lookup(training_image_data):\n",
    "        class_labels = [None]*training_image_data.num_classes\n",
    "        class_names = training_image_data.class_indices.keys()\n",
    "        for classname in class_names:\n",
    "            class_labels[training_image_data.class_indices[classname]] = classname\n",
    "        return class_labels"
   ]
  },
  {
   "cell_type": "code",
   "execution_count": 3,
   "metadata": {},
   "outputs": [
    {
     "name": "stdout",
     "output_type": "stream",
     "text": [
      "Found 200 images belonging to 10 classes.\n"
     ]
    }
   ],
   "source": [
    "train_data = ImageDataGenerator().flow_from_directory(\"./dataset_2/train\",target_size = (224,224))\n"
   ]
  },
  {
   "cell_type": "code",
   "execution_count": 5,
   "metadata": {},
   "outputs": [
    {
     "name": "stdout",
     "output_type": "stream",
     "text": [
      "10\n"
     ]
    }
   ],
   "source": [
    "num_classes = train_data.num_classes\n",
    "print(num_classes)"
   ]
  },
  {
   "cell_type": "code",
   "execution_count": 10,
   "metadata": {},
   "outputs": [
    {
     "name": "stdout",
     "output_type": "stream",
     "text": [
      "['김치볶음밥', '김치찌개', '돈까스', '된장찌개', '라면', '비빔밥', '삼겹살', '스파게티', '양념게장', '제육볶음']\n"
     ]
    }
   ],
   "source": [
    "class_names = __get_class_lookup(train_data)\n",
    "print(class_names)"
   ]
  },
  {
   "cell_type": "code",
   "execution_count": null,
   "metadata": {},
   "outputs": [],
   "source": [
    "ml_model = "
   ]
  },
  {
   "cell_type": "code",
   "execution_count": 8,
   "metadata": {},
   "outputs": [],
   "source": [
    "model = Sequential([\n",
    "    Rescaling(1/127,input_shape = (224,224,3)),\n",
    "    hub.KerasLayer(\"https://tfhub.dev/google/imagenet/mobilenet_v2_140_224/classification/4\"),\n",
    "    Dropout(rate=0.2),\n",
    "    Dense(3)\n",
    "])"
   ]
  },
  {
   "cell_type": "code",
   "execution_count": 9,
   "metadata": {},
   "outputs": [],
   "source": [
    "model.build( (None,)+ (224,224,3) )"
   ]
  },
  {
   "cell_type": "code",
   "execution_count": 10,
   "metadata": {},
   "outputs": [
    {
     "name": "stderr",
     "output_type": "stream",
     "text": [
      "/Users/roopre/opt/anaconda3/lib/python3.8/site-packages/tensorflow/python/keras/optimizer_v2/optimizer_v2.py:374: UserWarning: The `lr` argument is deprecated, use `learning_rate` instead.\n",
      "  warnings.warn(\n"
     ]
    }
   ],
   "source": [
    "model.compile(\n",
    "            optimizer=tf.keras.optimizers.SGD(lr=0.005, momentum=0.9),\n",
    "            loss=tf.keras.losses.CategoricalCrossentropy(from_logits=True, label_smoothing=0.1),\n",
    "            metrics=['accuracy'])"
   ]
  },
  {
   "cell_type": "code",
   "execution_count": 3,
   "metadata": {},
   "outputs": [],
   "source": [
    "IMAGESIZE=(224,224)\n",
    "INPUTLAYERSIZE=IMAGESIZE + (3,)"
   ]
  },
  {
   "cell_type": "code",
   "execution_count": 4,
   "metadata": {},
   "outputs": [
    {
     "data": {
      "text/plain": [
       "(224, 224, 3)"
      ]
     },
     "execution_count": 4,
     "metadata": {},
     "output_type": "execute_result"
    }
   ],
   "source": [
    "INPUTLAYERSIZE"
   ]
  },
  {
   "cell_type": "code",
   "execution_count": 2,
   "metadata": {},
   "outputs": [],
   "source": [
    "f = open(\"info.txt\",\"r\")\n",
    "t = f.read()"
   ]
  },
  {
   "cell_type": "code",
   "execution_count": 3,
   "metadata": {},
   "outputs": [
    {
     "data": {
      "text/plain": [
       "'[{\"id\": \"afadd8d0-095c-11ec-a13a-c1f056f06010\", \"imageurl\": \"https://blog.kakaocdn.net/dn/v5ZWO/btqwIkfxpsT/MXTun4FIGWxykhhVbIhWX0/img.png\", \"label\": \"0\"}, {\"id\": \"a8bbe490-095c-11ec-a13a-c1f056f06010\", \"imageurl\": \"https://cloudfront.haemukja.com/vh.php?url=https://d1hk7gw6lgygff.cloudfront.net/uploads/direction/image_file/48554/pad_thumb_0.JPG&convert=jpgmin&rt=600\", \"label\": \"0\"}, {\"id\": \"aa519fc0-095c-11ec-997a-71bd17f52519\", \"imageurl\": \"https://i.ytimg.com/vi/7k_dQU-xyHY/maxresdefault.jpg\", \"label\": \"0\"}, {\"id\": \"a0694ee0-095c-11ec-a7ab-9fbdfd5c2672\", \"imageurl\": \"https://i2.wp.com/chopchopchoi.com/wp-content/uploads/2020/03/KimchiFriedRice-scaled.jpg?fit=1024%2C682&ssl=1\", \"label\": \"0\"}, {\"id\": \"a4c99bc0-095c-11ec-997a-71bd17f52519\", \"imageurl\": \"https://m.cjthemarket.com/cjom/design/detail/prd_deatil_40063646_01.jpg\", \"label\": \"0\"}, {\"id\": \"a1e4f260-095c-11ec-997a-71bd17f52519\", \"imageurl\": \"https://mblogthumb-phinf.pstatic.net/MjAyMDA4MDJfNTAg/MDAxNTk2MzQzNjI3NzY5.9UeH-co5TMi4z_SppO8fzJeL0qPBud80IbylKvgs-a8g.BOgPOYHa9Vyhz0A-0JrMdkULkn-9Sw6WZWWRnBTHC3Qg.JPEG.baby0817/KIMEWMCID_CHUAL100.jpg?type=w800\", \"label\": \"0\"}, {\"id\": \"a6639cb0-095c-11ec-997a-71bd17f52519\", \"imageurl\": \"https://post-phinf.pstatic.net/MjAxODEwMTJfMTg0/MDAxNTM5MjczMDMzMjY1.APtctv-9giM2hARPOvu-QNYIpG1YsBt4Udk771XeZbkg.TjNUK-OQ4M8vIu2toYOAu_PbEg7HgNDqyR-xmHVH8qUg.JPEG/IMG_0674_copy.jpg?type=w1200\", \"label\": \"0\"}, {\"id\": \"ad712f40-095c-11ec-a7ab-9fbdfd5c2672\", \"imageurl\": \"https://recipe1.ezmember.co.kr/cache/recipe/2016/04/23/bb3238fef139c3454a9150f010e45e7f1.jpg\", \"label\": \"0\"}, {\"id\": \"a7784100-095c-11ec-a13a-c1f056f06010\", \"imageurl\": \"https://recipe1.ezmember.co.kr/cache/recipe/2017/02/16/5d832cef4bf3b396dc80bee912b0ad001.jpg\", \"label\": \"0\"}, {\"id\": \"a832b760-095c-11ec-a13a-c1f056f06010\", \"imageurl\": \"https://recipe1.ezmember.co.kr/cache/recipe/2018/01/08/8ae1b5468ae886aeb17ca81d0f18fc4a1.jpg\", \"label\": \"0\"}, {\"id\": \"c0daaac0-095c-11ec-a7ab-9fbdfd5c2672\", \"imageurl\": \"http://cdn.bizwatch.co.kr/news/photo/2020/08/31/03cd9f70abc981a95ba5b11421ad2053.jpg\", \"label\": \"1\"}, {\"id\": \"c33abad0-095c-11ec-997a-71bd17f52519\", \"imageurl\": \"https://blog.kakaocdn.net/dn/FjpVP/btqIghtnuT1/hSMMXzgdLKdTcneMz5xn3K/img.jpg\", \"label\": \"1\"}, {\"id\": \"b6128130-095c-11ec-a13a-c1f056f06010\", \"imageurl\": \"https://health.chosun.com/site/data/img_dir/2020/09/07/2020090702900_0.jpg\", \"label\": \"1\"}, {\"id\": \"bfb90e20-095c-11ec-a13a-c1f056f06010\", \"imageurl\": \"https://img.insight.co.kr/static/2019/03/01/700/tbdq25ikqpn86inr9a4h.jpg\", \"label\": \"1\"}, {\"id\": \"c2202310-095c-11ec-a13a-c1f056f06010\", \"imageurl\": \"https://img.seoul.co.kr/img/upload/2020/08/26/SSI_20200826213844_V.jpg\", \"label\": \"1\"}, {\"id\": \"b5ed6d00-095c-11ec-997a-71bd17f52519\", \"imageurl\": \"https://mblogthumb-phinf.pstatic.net/MjAyMDA1MjZfNDMg/MDAxNTkwNDgxOTc1OTE1.rpezhYUxGHG0X6-dmVwuACnqm7AugH9CUjxEatcVNsAg.C27glH_kXPk5zTORLyjUbU_yjkGDEbmwZXjaq_xGltIg.JPEG.naverschool/%ED%98%B8%EB%A1%9C%EB%A1%9C%EB%A1%9D.jpg?type=w800\", \"label\": \"1\"}, {\"id\": \"be484010-095c-11ec-997a-71bd17f52519\", \"imageurl\": \"https://ml0kkrxew41d.i.optimole.com/g0hcq7Y-LuJ3Jvuo/w:236/h:190/q:55/http://chicagokoreatimes.com/wp-content/uploads/2020/04/ramen.png\", \"label\": \"1\"}, {\"id\": \"bc54d480-095c-11ec-a13a-c1f056f06010\", \"imageurl\": \"https://news.pulmuone.co.kr/webfile/webedit/20200825/20200825132643_%EB%A9%B4%EB%B0%9C%ED%83%90%EA%B5%AC1.jpg\", \"label\": \"1\"}, {\"id\": \"b73c8240-095c-11ec-a13a-c1f056f06010\", \"imageurl\": \"https://newsimg.hankookilbo.com/cms/articlerelease/2021/02/18/7748ffd9-2472-4ca9-9952-31de4f06aea3.jpg\", \"label\": \"1\"}, {\"id\": \"c4428de0-095c-11ec-997a-71bd17f52519\", \"imageurl\": \"https://pds.joins.com/news/component/htmlphoto_mmdata/202009/08/9a135f2a-d0e5-48f9-89b0-a879934a965f.jpg\", \"label\": \"1\"}, {\"id\": \"c2bb0380-095c-11ec-a7ab-9fbdfd5c2672\", \"imageurl\": \"https://src.hidoc.co.kr/image/lib/2019/3/26/20190326140110420_0.jpg\", \"label\": \"1\"}, {\"id\": \"b85d5b90-095c-11ec-a7ab-9fbdfd5c2672\", \"imageurl\": \"https://t1.daumcdn.net/liveboard/SNUH/9f0f950de7294ec5b1ad29fc0ce8f491.JPG\", \"label\": \"1\"}, {\"id\": \"bb6da8d0-095c-11ec-a7ab-9fbdfd5c2672\", \"imageurl\": \"https://t1.daumcdn.net/thumb/R720x0.fjpg/?fname=http://t1.daumcdn.net/brunch/service/user/9dYi/image/-IRuhx0h42UiaMdTJheq6Cel-ME.jpg\", \"label\": \"1\"}, {\"id\": \"ba62a170-095c-11ec-a7ab-9fbdfd5c2672\", \"imageurl\": \"https://upload.wikimedia.org/wikipedia/commons/thumb/7/7f/Korea_Ramyeon.jpg/1200px-Korea_Ramyeon.jpg\", \"label\": \"1\"}, {\"id\": \"d1386ce0-095c-11ec-a7ab-9fbdfd5c2672\", \"imageurl\": \"http://file3.instiz.net/data/cached_img/upload/2020/02/16/12/5d5c023ec68a7b987ff6e8c4fa1c1d60.jpg\", \"label\": \"2\"}, {\"id\": \"d2b9b5b0-095c-11ec-a7ab-9fbdfd5c2672\", \"imageurl\": \"http://imagescdn.gettyimagesbank.com/500/201709/a10982862.jpg\", \"label\": \"2\"}, {\"id\": \"d53d5350-095c-11ec-997a-71bd17f52519\", \"imageurl\": \"http://sunsunara.co.kr/web/product/big/202008/c0627eb5093d5da1c6e86d9edf5a4eb0.jpg\", \"label\": \"2\"}, {\"id\": \"cea90f70-095c-11ec-997a-71bd17f52519\", \"imageurl\": \"http://th2.tmon.kr/thumbs/image/423/336/e17/1b1492318_700x700_95_FIT.jpg\", \"label\": \"2\"}, {\"id\": \"d80db160-095c-11ec-a7ab-9fbdfd5c2672\", \"imageurl\": \"https://banhanu.com//data/goods/21/03/09/1000000501/1000000501_detail_047.jpg\", \"label\": \"2\"}, {\"id\": \"d47632c0-095c-11ec-a13a-c1f056f06010\", \"imageurl\": \"https://houston.kjhou.com/wp-content/uploads/2020/03/5.-%ED%81%AC%EB%A0%88%EC%9D%B4%EC%A7%80%EA%B9%8C%EC%8A%A41-1024x768.jpg\", \"label\": \"2\"}, {\"id\": \"d8e88100-095c-11ec-997a-71bd17f52519\", \"imageurl\": \"https://mblogthumb-phinf.pstatic.net/MjAxNzA1MDNfMTU2/MDAxNDkzODIyODY4MDEz.KHxOf0Kw6m7CSQlJkFPRUts0UQpTjwjs7ab55KzctM0g.PNEt5UbtICqzi1VDmDPMUhmR5PDKTvesg3uU6CSyFPEg.JPEG.stveiry/DSCN7592.JPG?type=w800\", \"label\": \"2\"}, {\"id\": \"d63dd360-095c-11ec-a13a-c1f056f06010\", \"imageurl\": \"https://mp-seoul-image-production-s3.mangoplate.com/428178/1727908_1610466129234_7890?fit=around|512:512&crop=512:512;*,*&output-format=jpg&output-quality=80\", \"label\": \"2\"}, {\"id\": \"d087e190-095c-11ec-997a-71bd17f52519\", \"imageurl\": \"https://recipe1.ezmember.co.kr/cache/recipe/2019/01/12/b9343d314206275c1b6d0d0c4fcc2ce71.jpg\", \"label\": \"2\"}, {\"id\": \"cadc28f0-095c-11ec-997a-71bd17f52519\", \"imageurl\": \"https://t1.daumcdn.net/cfile/tistory/9933463B5CF6FA2821\", \"label\": \"2\"}, {\"id\": \"cd520af0-095c-11ec-a13a-c1f056f06010\", \"imageurl\": \"https://w.namu.la/s/2ceb50c734a752d27b67846e19a4d0c82830692576da4e9028cc58278b6b23ab07a3df76d84a15f8017dfca3940fa9a79479c00c3e7334139c49b03efdc438954872a6c6f0085b69fe9a1301dc52752f9d08dd974225315c587fe5533865e119371fb6c344749f2f41917e32620c6ae9\", \"label\": \"2\"}, {\"id\": \"cf499530-095c-11ec-a13a-c1f056f06010\", \"imageurl\": \"https://www.ypsori.com/news/photo/201811/14515_14466_1033.jpg\", \"label\": \"2\"}, {\"id\": \"f375d630-095c-11ec-997a-71bd17f52519\", \"imageurl\": \"http://image.newdaily.co.kr/site/data/img/2017/07/10/2017071010070_0.jpg\", \"label\": \"3\"}, {\"id\": \"ec34b080-095c-11ec-a7ab-9fbdfd5c2672\", \"imageurl\": \"https://cdn.eyesmag.com/content/uploads/posts/2020/09/28/fast-food-franchises-serve-hamburger-without-tomatoes-01-52f4f2a6-a73a-4abc-ba3c-419ee2660639.jpg\", \"label\": \"3\"}, {\"id\": \"f5286830-095c-11ec-a7ab-9fbdfd5c2672\", \"imageurl\": \"https://cdn.eyesmag.com/content/uploads/posts/2020/09/28/fast-food-franchises-serve-hamburger-without-tomatoes-main-830fce32-c71e-4faa-ba77-1efb08e7ee7b.jpg\", \"label\": \"3\"}, {\"id\": \"f3e2c8d0-095c-11ec-a7ab-9fbdfd5c2672\", \"imageurl\": \"https://img.hani.co.kr/imgdb/resize/2017/0709/149948783091_20170709.JPG\", \"label\": \"3\"}, {\"id\": \"eb2f0050-095c-11ec-a7ab-9fbdfd5c2672\", \"imageurl\": \"https://img.hankyung.com/photo/201908/01.20330262.1.jpg\", \"label\": \"3\"}, {\"id\": \"eda2bf70-095c-11ec-a7ab-9fbdfd5c2672\", \"imageurl\": \"https://img.hankyung.com/photo/202105/01.26386608.1.jpg\", \"label\": \"3\"}, {\"id\": \"f2c7e2f0-095c-11ec-a13a-c1f056f06010\", \"imageurl\": \"https://img.khan.co.kr/news/2020/06/26/l_2020062701003314900262081.jpg\", \"label\": \"3\"}, {\"id\": \"e9c696b0-095c-11ec-a7ab-9fbdfd5c2672\", \"imageurl\": \"https://img.newspim.com/news/2021/05/25/2105251548352120_w.jpg\", \"label\": \"3\"}, {\"id\": \"ee0292b0-095c-11ec-997a-71bd17f52519\", \"imageurl\": \"https://newsimg.hankookilbo.com/cms/articlerelease/2021/04/29/62a1cda6-ec70-44a8-811c-fbc6300a18ed.png\", \"label\": \"3\"}, {\"id\": \"ebd50450-095c-11ec-a13a-c1f056f06010\", \"imageurl\": \"https://newsimg.sedaily.com/2020/11/17/1ZAFYQN80J_1.jpg\", \"label\": \"3\"}, {\"id\": \"f14cdbb0-095c-11ec-a7ab-9fbdfd5c2672\", \"imageurl\": \"https://pds.joins.com/news/component/htmlphoto_mmdata/201412/08/htm_20141208135901788.jpg\", \"label\": \"3\"}, {\"id\": \"e9789dc0-095c-11ec-a13a-c1f056f06010\", \"imageurl\": \"https://thumb.mt.co.kr/06/2021/03/2021030517294890953_1.jpg/dims/optimize/\", \"label\": \"3\"}, {\"id\": \"e71de4e0-095c-11ec-a7ab-9fbdfd5c2672\", \"imageurl\": \"https://upload.wikimedia.org/wikipedia/commons/8/8f/NYC-Diner-Bacon-Cheeseburger.jpg\", \"label\": \"3\"}, {\"id\": \"ee824a00-095c-11ec-a7ab-9fbdfd5c2672\", \"imageurl\": \"https://w.namu.la/s/913177a7b74dd75c06da601c4ffb1fbc0a68305baa9af08dd820e75ef53d7f1426f18c33bd887c262ba7c4d57f28b81db998d75940fb8887f8d0189c7c9916855e8c3c0d70a4d1279497f90e764ec4d1fa6697ccc73c4cce707fac68043b6bb4\", \"label\": \"3\"}, {\"id\": \"097a20d0-095d-11ec-997a-71bd17f52519\", \"imageurl\": \"http://image.auction.co.kr/itemimage/1d/2f/21/1d2f2107c6.jpg\", \"label\": \"4\"}, {\"id\": \"06cd0230-095d-11ec-997a-71bd17f52519\", \"imageurl\": \"http://image.koreatimes.com/article/2020/02/10/202002100750345e1.jpg\", \"label\": \"4\"}, {\"id\": \"07099600-095d-11ec-a13a-c1f056f06010\", \"imageurl\": \"http://img2.tmon.kr/cdn3/deals/2019/05/20/2089237714//2089237714_front_G8aAkU1P4i.jpg\", \"label\": \"4\"}, {\"id\": \"11039a20-095d-11ec-a13a-c1f056f06010\", \"imageurl\": \"http://th1.tmon.kr/thumbs/image/d41/ce1/59f/082d73a67_700x700_95_FIT.jpg\", \"label\": \"4\"}, {\"id\": \"1159a960-095d-11ec-a7ab-9fbdfd5c2672\", \"imageurl\": \"http://www.dunkindonuts.co.kr/upload/product/1549271397.png\", \"label\": \"4\"}, {\"id\": \"0ca2d810-095d-11ec-a7ab-9fbdfd5c2672\", \"imageurl\": \"https://blogthumb.pstatic.net/MjAxNzA5MTlfMTg4/MDAxNTA1ODA0MDY0OTQ1.opVNZpSU8XpVew0D2yuT1C13bGwknkVd1oIDqj6BVt0g.yF7Ym7-ZExyFLYhNBs5SFWaAMLPbYn9kjfxsRYGEdJIg.JPEG.gunah2333/%C7%D6%B5%B5%B1%D7.jpg?type=w2\", \"label\": \"4\"}, {\"id\": \"08ecd4f0-095d-11ec-997a-71bd17f52519\", \"imageurl\": \"https://cdn.univ20.com/wp-content/uploads/2015/10/c51ce410c124a10e0db5e4b97fc2af392.jpg\", \"label\": \"4\"}, {\"id\": \"ff5710e0-095c-11ec-a7ab-9fbdfd5c2672\", \"imageurl\": \"https://i.ytimg.com/vi/xMTb669y2Ko/maxresdefault.jpg\", \"label\": \"4\"}, {\"id\": \"04414e40-095d-11ec-a7ab-9fbdfd5c2672\", \"imageurl\": \"https://image.g9.co.kr/g/1968904818/n?ts=1608013778000\", \"label\": \"4\"}, {\"id\": \"1074eeb0-095d-11ec-a7ab-9fbdfd5c2672\", \"imageurl\": \"https://img.maisonkorea.com/2015/09/msk_589c5e76111a6.jpg\", \"label\": \"4\"}, {\"id\": \"1269e0e0-095d-11ec-a13a-c1f056f06010\", \"imageurl\": \"https://post-phinf.pstatic.net/MjAxODA2MDdfNDQg/MDAxNTI4MzE1OTE0NDYz.KDamGDsJB8lzvR_kJmSJMMTPZiAPcEJq9el-wzQ_RVsg.Usca6o-YFnSY28k0e5jVg9WFbYQQy2uRlFNdgcK8ZS8g.PNG/HotDog.png?type=w1200\", \"label\": \"4\"}, {\"id\": \"0c8034e0-095d-11ec-a13a-c1f056f06010\", \"imageurl\": \"https://recipe1.ezmember.co.kr/cache/recipe/2018/09/26/289f75384a4a3f60b0ba8f418c3f08861.jpg\", \"label\": \"4\"}, {\"id\": \"fe165380-095c-11ec-997a-71bd17f52519\", \"imageurl\": \"https://recipe1.ezmember.co.kr/cache/recipe/2019/03/18/3c84dd20e3ded9c198d207bb034ee8a21.jpg\", \"label\": \"4\"}, {\"id\": \"0585b520-095d-11ec-a13a-c1f056f06010\", \"imageurl\": \"https://torontogo.net/images/attach/525/20191028-11104083.jpeg\", \"label\": \"4\"}, {\"id\": \"010d2550-095d-11ec-a7ab-9fbdfd5c2672\", \"imageurl\": \"https://upload.wikimedia.org/wikipedia/commons/f/fe/HotDog.jpg\", \"label\": \"4\"}, {\"id\": \"fece0ac0-095c-11ec-a7ab-9fbdfd5c2672\", \"imageurl\": \"https://www.yorivery.com/data/goods/1000000233_detail_032.jpg\", \"label\": \"4\"}, {\"id\": \"9c001cd0-0966-11ec-bfde-b1a953fbb3fd\", \"imageurl\": \"http://health.chosun.com/site/data/img_dir/2020/07/07/2020070703115_0.jpg\", \"label\": \"5\"}, {\"id\": \"bfe2f8c0-0966-11ec-bfde-b1a953fbb3fd\", \"imageurl\": \"http://imagescdn.gettyimagesbank.com/500/201708/jv10937987.jpg\", \"label\": \"5\"}, {\"id\": \"bed24c10-0966-11ec-bfde-b1a953fbb3fd\", \"imageurl\": \"http://res.heraldm.com/phpwas/restmb_idxmake.php?idx=307&simg=/content/image/2019/08/06/20190806000108_0.jpg\", \"label\": \"5\"}, {\"id\": \"aa74d3a0-0966-11ec-b8dc-8952e61d9d5b\", \"imageurl\": \"http://res.heraldm.com/phpwas/restmb_idxmake.php?idx=507&simg=/content/image/2018/10/29/20181029000344_0.jpg\", \"label\": \"5\"}, {\"id\": \"a7ea5830-0966-11ec-bfde-b1a953fbb3fd\", \"imageurl\": \"http://src.hidoc.co.kr/image/lib/2018/3/28/20180328145425104_0.jpg\", \"label\": \"5\"}, {\"id\": \"c408fbc0-0966-11ec-bfde-b1a953fbb3fd\", \"imageurl\": \"http://www.bapsangnews.com/repository/image/jpeg/0/f/0fa6e1eceeada48bf466d443ea5e746a0000021750\", \"label\": \"5\"}, {\"id\": \"a31ffee0-0966-11ec-b8dc-8952e61d9d5b\", \"imageurl\": \"http://www.sommeliertimes.com/news/photo/201809/10479_21273_4150.jpg\", \"label\": \"5\"}, {\"id\": \"b09239d0-0966-11ec-b8dc-8952e61d9d5b\", \"imageurl\": \"https://blog.kakaocdn.net/dn/c2Gxup/btqz5Ar7a0X/fNey6KwuEF904BuS3HGk91/img.jpg\", \"label\": \"5\"}, {\"id\": \"a50c8ca0-0966-11ec-bfde-b1a953fbb3fd\", \"imageurl\": \"https://blogthumb.pstatic.net/MjAxNzAyMTNfNzEg/MDAxNDg2OTYzNjIzMzkx.rGcztTDrS7WERmk37rPxyGV3TbHnuww1emEjTBmHdTIg.woDxBx_NHN-UHG9HilVh8grDZ3ijkOZCIpW328eIxEUg.JPEG.iggoom/img_0421.jpg?type=w2\", \"label\": \"5\"}, {\"id\": \"c2178c00-0966-11ec-bfde-b1a953fbb3fd\", \"imageurl\": \"https://cdn.crowdpic.net/detail-thumb/thumb_d_C2E73B41E62E90FFD4BCD9408B9FFF8D.jpg\", \"label\": \"5\"}, {\"id\": \"9d93b520-0966-11ec-bfde-b1a953fbb3fd\", \"imageurl\": \"https://cdn.mkhealth.co.kr/news/photo/202106/53570_55048_1856.jpg\", \"label\": \"5\"}, {\"id\": \"a6a7c610-0966-11ec-a6ae-431458273185\", \"imageurl\": \"https://cdn.newsfs.com/news/photo/201810/16563_14052_2936.jpg\", \"label\": \"5\"}, {\"id\": \"ad5a4050-0966-11ec-a6ae-431458273185\", \"imageurl\": \"https://cdn.newsin.co.kr/news/photo/201802/68087_53063_3818.jpg\", \"label\": \"5\"}, {\"id\": \"9c17c380-0966-11ec-b8dc-8952e61d9d5b\", \"imageurl\": \"https://cloudfront-ap-northeast-1.images.arcpublishing.com/chosun/KVN4EOBHHWBWBTM54TGN64NR7Y.jpg\", \"label\": \"5\"}, {\"id\": \"a8474540-0966-11ec-bfde-b1a953fbb3fd\", \"imageurl\": \"https://img.huffingtonpost.com/asset/5d80e1fb230000e903560154.jpeg?ops=1200_630\", \"label\": \"5\"}, {\"id\": \"a12f5270-0966-11ec-b8dc-8952e61d9d5b\", \"imageurl\": \"https://img.insight.co.kr/static/2019/07/17/700/9e774ale0511z3p146p2.jpg\", \"label\": \"5\"}, {\"id\": \"9dbdd260-0966-11ec-bfde-b1a953fbb3fd\", \"imageurl\": \"https://img1.daumcdn.net/thumb/S560x400/?scode=1boon&fname=https://t1.daumcdn.net/liveboard/realfood/15addaf9416e49e482e315442a511f28.jpg\", \"label\": \"5\"}, {\"id\": \"c18955c0-0966-11ec-a6ae-431458273185\", \"imageurl\": \"https://imgnn.seoul.co.kr/img/upload/2014/09/17/SSI_20140917111153_V.jpg\", \"label\": \"5\"}, {\"id\": \"9ab9ba20-0966-11ec-a6ae-431458273185\", \"imageurl\": \"https://post-phinf.pstatic.net/MjAxODEyMDNfMTgg/MDAxNTQzODE3MzU4MDQ1.nUgwzvfpxEq1Svu_CeGdZEqy27EAZdRZvJtk0Aawkbwg.HmSHCW0TrsTbLr4Uv1AJ_Fg-i78S9tB9krRTK9ajSjIg.JPEG/psx02d13817.jpg?type=w1200\", \"label\": \"5\"}, {\"id\": \"99dbdd40-0966-11ec-bfde-b1a953fbb3fd\", \"imageurl\": \"https://src.hidoc.co.kr/image/lib/2017/2/20/20170220172049981_0.jpg\", \"label\": \"5\"}, {\"id\": \"c69cc600-0966-11ec-b8dc-8952e61d9d5b\", \"imageurl\": \"https://t1.daumcdn.net/cfile/tistory/253AC63E55F180CC39\", \"label\": \"5\"}, {\"id\": \"a50560b0-0966-11ec-b8dc-8952e61d9d5b\", \"imageurl\": \"https://t1.daumcdn.net/liveboard/realfood/fe22e75fc6ee414f9d146666802e28b1.JPG\", \"label\": \"5\"}, {\"id\": \"9e2546c0-0966-11ec-a6ae-431458273185\", \"imageurl\": \"https://ww.namu.la/s/7aeac70c734963139f7e86569f324e2e4e687fca3767dc6e415d6a0a20e032dc932c245ace59036f9a114a609da373b571c8a3c6d003c65712b153abaefcaafa1a890f150eb111394c4dc248b01a04a038f7658d6577d20862debb74f36c96c35217fd2a6f3ec5e6b26e3aecf8d371b3\", \"label\": \"5\"}, {\"id\": \"a0f15f10-0966-11ec-b8dc-8952e61d9d5b\", \"imageurl\": \"https://www.cjthemarket.com/cjom/design/detail/prd_deatil_40066444_03.jpg\", \"label\": \"5\"}, {\"id\": \"a2cc60a0-0966-11ec-bfde-b1a953fbb3fd\", \"imageurl\": \"https://www.pn.co.kr/file/board/1618893689228_GettyImages-1063687698.jpg\", \"label\": \"5\"}, {\"id\": \"d67fd9e0-0966-11ec-b8dc-8952e61d9d5b\", \"imageurl\": \"https://blog.kakaocdn.net/dn/Xsk3V/btqO7id0UFg/WJwHhx3pR64nRPtuMQuvY0/img.jpg\", \"label\": \"6\"}, {\"id\": \"d70b02e0-0966-11ec-b8dc-8952e61d9d5b\", \"imageurl\": \"https://i.ytimg.com/vi/KXVt6WKLbM0/maxresdefault.jpg\", \"label\": \"6\"}, {\"id\": \"d6bac000-0966-11ec-a6ae-431458273185\", \"imageurl\": \"https://recipe1.ezmember.co.kr/cache/recipe/2018/01/17/893c7eea09a14722d23822432bd69a7f1.jpg\", \"label\": \"6\"}, {\"id\": \"d18ebeb0-0966-11ec-a6ae-431458273185\", \"imageurl\": \"https://recipe1.ezmember.co.kr/cache/recipe/2019/02/10/5d4289fb101abbe27c28cd65759d23d31.jpg\", \"label\": \"6\"}, {\"id\": \"d31c6390-0966-11ec-a6ae-431458273185\", \"imageurl\": \"https://recipe1.ezmember.co.kr/cache/recipe/2020/07/24/c599da802f35f12e11a53bbefd4700691.jpg\", \"label\": \"6\"}, {\"id\": \"cf2c1690-0966-11ec-b8dc-8952e61d9d5b\", \"imageurl\": \"https://static.wtable.co.kr/image/production/service/recipe/170/88f14bd3-d922-4d67-8c38-1dcf9fee27bc.jpg\", \"label\": \"6\"}, {\"id\": \"d47a45e0-0966-11ec-a6ae-431458273185\", \"imageurl\": \"https://t1.daumcdn.net/cfile/tistory/9998B74F5A529F061C\", \"label\": \"6\"}, {\"id\": \"d562f830-0966-11ec-bfde-b1a953fbb3fd\", \"imageurl\": \"https://www.paris.co.kr/wp-content/uploads/200312-_670-1280x1280.jpg\", \"label\": \"6\"}, {\"id\": \"0f39a400-0967-11ec-a6ae-431458273185\", \"imageurl\": \"https://w.namu.la/s/094f46862c2afa34f65c24ab71bcc841102651152aa1d94b17e98b15e48a03d9cf0543e4a1fb8053dd91dbb20e70ae8b5234631d5a62b2a1b4e5f2fa232717e3495f0f39a3726de5352ee76e9c42c64d2f900e15c773fd67fb9cfae83b0c26691ac496f8645f7557aa2a46521053e64c\", \"label\": \"7\"}]'"
      ]
     },
     "execution_count": 3,
     "metadata": {},
     "output_type": "execute_result"
    }
   ],
   "source": [
    "t"
   ]
  },
  {
   "cell_type": "code",
   "execution_count": 4,
   "metadata": {},
   "outputs": [
    {
     "data": {
      "text/plain": [
       "[{'id': 'afadd8d0-095c-11ec-a13a-c1f056f06010',\n",
       "  'imageurl': 'https://blog.kakaocdn.net/dn/v5ZWO/btqwIkfxpsT/MXTun4FIGWxykhhVbIhWX0/img.png',\n",
       "  'label': '0'},\n",
       " {'id': 'a8bbe490-095c-11ec-a13a-c1f056f06010',\n",
       "  'imageurl': 'https://cloudfront.haemukja.com/vh.php?url=https://d1hk7gw6lgygff.cloudfront.net/uploads/direction/image_file/48554/pad_thumb_0.JPG&convert=jpgmin&rt=600',\n",
       "  'label': '0'},\n",
       " {'id': 'aa519fc0-095c-11ec-997a-71bd17f52519',\n",
       "  'imageurl': 'https://i.ytimg.com/vi/7k_dQU-xyHY/maxresdefault.jpg',\n",
       "  'label': '0'},\n",
       " {'id': 'a0694ee0-095c-11ec-a7ab-9fbdfd5c2672',\n",
       "  'imageurl': 'https://i2.wp.com/chopchopchoi.com/wp-content/uploads/2020/03/KimchiFriedRice-scaled.jpg?fit=1024%2C682&ssl=1',\n",
       "  'label': '0'},\n",
       " {'id': 'a4c99bc0-095c-11ec-997a-71bd17f52519',\n",
       "  'imageurl': 'https://m.cjthemarket.com/cjom/design/detail/prd_deatil_40063646_01.jpg',\n",
       "  'label': '0'},\n",
       " {'id': 'a1e4f260-095c-11ec-997a-71bd17f52519',\n",
       "  'imageurl': 'https://mblogthumb-phinf.pstatic.net/MjAyMDA4MDJfNTAg/MDAxNTk2MzQzNjI3NzY5.9UeH-co5TMi4z_SppO8fzJeL0qPBud80IbylKvgs-a8g.BOgPOYHa9Vyhz0A-0JrMdkULkn-9Sw6WZWWRnBTHC3Qg.JPEG.baby0817/KIMEWMCID_CHUAL100.jpg?type=w800',\n",
       "  'label': '0'},\n",
       " {'id': 'a6639cb0-095c-11ec-997a-71bd17f52519',\n",
       "  'imageurl': 'https://post-phinf.pstatic.net/MjAxODEwMTJfMTg0/MDAxNTM5MjczMDMzMjY1.APtctv-9giM2hARPOvu-QNYIpG1YsBt4Udk771XeZbkg.TjNUK-OQ4M8vIu2toYOAu_PbEg7HgNDqyR-xmHVH8qUg.JPEG/IMG_0674_copy.jpg?type=w1200',\n",
       "  'label': '0'},\n",
       " {'id': 'ad712f40-095c-11ec-a7ab-9fbdfd5c2672',\n",
       "  'imageurl': 'https://recipe1.ezmember.co.kr/cache/recipe/2016/04/23/bb3238fef139c3454a9150f010e45e7f1.jpg',\n",
       "  'label': '0'},\n",
       " {'id': 'a7784100-095c-11ec-a13a-c1f056f06010',\n",
       "  'imageurl': 'https://recipe1.ezmember.co.kr/cache/recipe/2017/02/16/5d832cef4bf3b396dc80bee912b0ad001.jpg',\n",
       "  'label': '0'},\n",
       " {'id': 'a832b760-095c-11ec-a13a-c1f056f06010',\n",
       "  'imageurl': 'https://recipe1.ezmember.co.kr/cache/recipe/2018/01/08/8ae1b5468ae886aeb17ca81d0f18fc4a1.jpg',\n",
       "  'label': '0'},\n",
       " {'id': 'c0daaac0-095c-11ec-a7ab-9fbdfd5c2672',\n",
       "  'imageurl': 'http://cdn.bizwatch.co.kr/news/photo/2020/08/31/03cd9f70abc981a95ba5b11421ad2053.jpg',\n",
       "  'label': '1'},\n",
       " {'id': 'c33abad0-095c-11ec-997a-71bd17f52519',\n",
       "  'imageurl': 'https://blog.kakaocdn.net/dn/FjpVP/btqIghtnuT1/hSMMXzgdLKdTcneMz5xn3K/img.jpg',\n",
       "  'label': '1'},\n",
       " {'id': 'b6128130-095c-11ec-a13a-c1f056f06010',\n",
       "  'imageurl': 'https://health.chosun.com/site/data/img_dir/2020/09/07/2020090702900_0.jpg',\n",
       "  'label': '1'},\n",
       " {'id': 'bfb90e20-095c-11ec-a13a-c1f056f06010',\n",
       "  'imageurl': 'https://img.insight.co.kr/static/2019/03/01/700/tbdq25ikqpn86inr9a4h.jpg',\n",
       "  'label': '1'},\n",
       " {'id': 'c2202310-095c-11ec-a13a-c1f056f06010',\n",
       "  'imageurl': 'https://img.seoul.co.kr/img/upload/2020/08/26/SSI_20200826213844_V.jpg',\n",
       "  'label': '1'},\n",
       " {'id': 'b5ed6d00-095c-11ec-997a-71bd17f52519',\n",
       "  'imageurl': 'https://mblogthumb-phinf.pstatic.net/MjAyMDA1MjZfNDMg/MDAxNTkwNDgxOTc1OTE1.rpezhYUxGHG0X6-dmVwuACnqm7AugH9CUjxEatcVNsAg.C27glH_kXPk5zTORLyjUbU_yjkGDEbmwZXjaq_xGltIg.JPEG.naverschool/%ED%98%B8%EB%A1%9C%EB%A1%9C%EB%A1%9D.jpg?type=w800',\n",
       "  'label': '1'},\n",
       " {'id': 'be484010-095c-11ec-997a-71bd17f52519',\n",
       "  'imageurl': 'https://ml0kkrxew41d.i.optimole.com/g0hcq7Y-LuJ3Jvuo/w:236/h:190/q:55/http://chicagokoreatimes.com/wp-content/uploads/2020/04/ramen.png',\n",
       "  'label': '1'},\n",
       " {'id': 'bc54d480-095c-11ec-a13a-c1f056f06010',\n",
       "  'imageurl': 'https://news.pulmuone.co.kr/webfile/webedit/20200825/20200825132643_%EB%A9%B4%EB%B0%9C%ED%83%90%EA%B5%AC1.jpg',\n",
       "  'label': '1'},\n",
       " {'id': 'b73c8240-095c-11ec-a13a-c1f056f06010',\n",
       "  'imageurl': 'https://newsimg.hankookilbo.com/cms/articlerelease/2021/02/18/7748ffd9-2472-4ca9-9952-31de4f06aea3.jpg',\n",
       "  'label': '1'},\n",
       " {'id': 'c4428de0-095c-11ec-997a-71bd17f52519',\n",
       "  'imageurl': 'https://pds.joins.com/news/component/htmlphoto_mmdata/202009/08/9a135f2a-d0e5-48f9-89b0-a879934a965f.jpg',\n",
       "  'label': '1'},\n",
       " {'id': 'c2bb0380-095c-11ec-a7ab-9fbdfd5c2672',\n",
       "  'imageurl': 'https://src.hidoc.co.kr/image/lib/2019/3/26/20190326140110420_0.jpg',\n",
       "  'label': '1'},\n",
       " {'id': 'b85d5b90-095c-11ec-a7ab-9fbdfd5c2672',\n",
       "  'imageurl': 'https://t1.daumcdn.net/liveboard/SNUH/9f0f950de7294ec5b1ad29fc0ce8f491.JPG',\n",
       "  'label': '1'},\n",
       " {'id': 'bb6da8d0-095c-11ec-a7ab-9fbdfd5c2672',\n",
       "  'imageurl': 'https://t1.daumcdn.net/thumb/R720x0.fjpg/?fname=http://t1.daumcdn.net/brunch/service/user/9dYi/image/-IRuhx0h42UiaMdTJheq6Cel-ME.jpg',\n",
       "  'label': '1'},\n",
       " {'id': 'ba62a170-095c-11ec-a7ab-9fbdfd5c2672',\n",
       "  'imageurl': 'https://upload.wikimedia.org/wikipedia/commons/thumb/7/7f/Korea_Ramyeon.jpg/1200px-Korea_Ramyeon.jpg',\n",
       "  'label': '1'},\n",
       " {'id': 'd1386ce0-095c-11ec-a7ab-9fbdfd5c2672',\n",
       "  'imageurl': 'http://file3.instiz.net/data/cached_img/upload/2020/02/16/12/5d5c023ec68a7b987ff6e8c4fa1c1d60.jpg',\n",
       "  'label': '2'},\n",
       " {'id': 'd2b9b5b0-095c-11ec-a7ab-9fbdfd5c2672',\n",
       "  'imageurl': 'http://imagescdn.gettyimagesbank.com/500/201709/a10982862.jpg',\n",
       "  'label': '2'},\n",
       " {'id': 'd53d5350-095c-11ec-997a-71bd17f52519',\n",
       "  'imageurl': 'http://sunsunara.co.kr/web/product/big/202008/c0627eb5093d5da1c6e86d9edf5a4eb0.jpg',\n",
       "  'label': '2'},\n",
       " {'id': 'cea90f70-095c-11ec-997a-71bd17f52519',\n",
       "  'imageurl': 'http://th2.tmon.kr/thumbs/image/423/336/e17/1b1492318_700x700_95_FIT.jpg',\n",
       "  'label': '2'},\n",
       " {'id': 'd80db160-095c-11ec-a7ab-9fbdfd5c2672',\n",
       "  'imageurl': 'https://banhanu.com//data/goods/21/03/09/1000000501/1000000501_detail_047.jpg',\n",
       "  'label': '2'},\n",
       " {'id': 'd47632c0-095c-11ec-a13a-c1f056f06010',\n",
       "  'imageurl': 'https://houston.kjhou.com/wp-content/uploads/2020/03/5.-%ED%81%AC%EB%A0%88%EC%9D%B4%EC%A7%80%EA%B9%8C%EC%8A%A41-1024x768.jpg',\n",
       "  'label': '2'},\n",
       " {'id': 'd8e88100-095c-11ec-997a-71bd17f52519',\n",
       "  'imageurl': 'https://mblogthumb-phinf.pstatic.net/MjAxNzA1MDNfMTU2/MDAxNDkzODIyODY4MDEz.KHxOf0Kw6m7CSQlJkFPRUts0UQpTjwjs7ab55KzctM0g.PNEt5UbtICqzi1VDmDPMUhmR5PDKTvesg3uU6CSyFPEg.JPEG.stveiry/DSCN7592.JPG?type=w800',\n",
       "  'label': '2'},\n",
       " {'id': 'd63dd360-095c-11ec-a13a-c1f056f06010',\n",
       "  'imageurl': 'https://mp-seoul-image-production-s3.mangoplate.com/428178/1727908_1610466129234_7890?fit=around|512:512&crop=512:512;*,*&output-format=jpg&output-quality=80',\n",
       "  'label': '2'},\n",
       " {'id': 'd087e190-095c-11ec-997a-71bd17f52519',\n",
       "  'imageurl': 'https://recipe1.ezmember.co.kr/cache/recipe/2019/01/12/b9343d314206275c1b6d0d0c4fcc2ce71.jpg',\n",
       "  'label': '2'},\n",
       " {'id': 'cadc28f0-095c-11ec-997a-71bd17f52519',\n",
       "  'imageurl': 'https://t1.daumcdn.net/cfile/tistory/9933463B5CF6FA2821',\n",
       "  'label': '2'},\n",
       " {'id': 'cd520af0-095c-11ec-a13a-c1f056f06010',\n",
       "  'imageurl': 'https://w.namu.la/s/2ceb50c734a752d27b67846e19a4d0c82830692576da4e9028cc58278b6b23ab07a3df76d84a15f8017dfca3940fa9a79479c00c3e7334139c49b03efdc438954872a6c6f0085b69fe9a1301dc52752f9d08dd974225315c587fe5533865e119371fb6c344749f2f41917e32620c6ae9',\n",
       "  'label': '2'},\n",
       " {'id': 'cf499530-095c-11ec-a13a-c1f056f06010',\n",
       "  'imageurl': 'https://www.ypsori.com/news/photo/201811/14515_14466_1033.jpg',\n",
       "  'label': '2'},\n",
       " {'id': 'f375d630-095c-11ec-997a-71bd17f52519',\n",
       "  'imageurl': 'http://image.newdaily.co.kr/site/data/img/2017/07/10/2017071010070_0.jpg',\n",
       "  'label': '3'},\n",
       " {'id': 'ec34b080-095c-11ec-a7ab-9fbdfd5c2672',\n",
       "  'imageurl': 'https://cdn.eyesmag.com/content/uploads/posts/2020/09/28/fast-food-franchises-serve-hamburger-without-tomatoes-01-52f4f2a6-a73a-4abc-ba3c-419ee2660639.jpg',\n",
       "  'label': '3'},\n",
       " {'id': 'f5286830-095c-11ec-a7ab-9fbdfd5c2672',\n",
       "  'imageurl': 'https://cdn.eyesmag.com/content/uploads/posts/2020/09/28/fast-food-franchises-serve-hamburger-without-tomatoes-main-830fce32-c71e-4faa-ba77-1efb08e7ee7b.jpg',\n",
       "  'label': '3'},\n",
       " {'id': 'f3e2c8d0-095c-11ec-a7ab-9fbdfd5c2672',\n",
       "  'imageurl': 'https://img.hani.co.kr/imgdb/resize/2017/0709/149948783091_20170709.JPG',\n",
       "  'label': '3'},\n",
       " {'id': 'eb2f0050-095c-11ec-a7ab-9fbdfd5c2672',\n",
       "  'imageurl': 'https://img.hankyung.com/photo/201908/01.20330262.1.jpg',\n",
       "  'label': '3'},\n",
       " {'id': 'eda2bf70-095c-11ec-a7ab-9fbdfd5c2672',\n",
       "  'imageurl': 'https://img.hankyung.com/photo/202105/01.26386608.1.jpg',\n",
       "  'label': '3'},\n",
       " {'id': 'f2c7e2f0-095c-11ec-a13a-c1f056f06010',\n",
       "  'imageurl': 'https://img.khan.co.kr/news/2020/06/26/l_2020062701003314900262081.jpg',\n",
       "  'label': '3'},\n",
       " {'id': 'e9c696b0-095c-11ec-a7ab-9fbdfd5c2672',\n",
       "  'imageurl': 'https://img.newspim.com/news/2021/05/25/2105251548352120_w.jpg',\n",
       "  'label': '3'},\n",
       " {'id': 'ee0292b0-095c-11ec-997a-71bd17f52519',\n",
       "  'imageurl': 'https://newsimg.hankookilbo.com/cms/articlerelease/2021/04/29/62a1cda6-ec70-44a8-811c-fbc6300a18ed.png',\n",
       "  'label': '3'},\n",
       " {'id': 'ebd50450-095c-11ec-a13a-c1f056f06010',\n",
       "  'imageurl': 'https://newsimg.sedaily.com/2020/11/17/1ZAFYQN80J_1.jpg',\n",
       "  'label': '3'},\n",
       " {'id': 'f14cdbb0-095c-11ec-a7ab-9fbdfd5c2672',\n",
       "  'imageurl': 'https://pds.joins.com/news/component/htmlphoto_mmdata/201412/08/htm_20141208135901788.jpg',\n",
       "  'label': '3'},\n",
       " {'id': 'e9789dc0-095c-11ec-a13a-c1f056f06010',\n",
       "  'imageurl': 'https://thumb.mt.co.kr/06/2021/03/2021030517294890953_1.jpg/dims/optimize/',\n",
       "  'label': '3'},\n",
       " {'id': 'e71de4e0-095c-11ec-a7ab-9fbdfd5c2672',\n",
       "  'imageurl': 'https://upload.wikimedia.org/wikipedia/commons/8/8f/NYC-Diner-Bacon-Cheeseburger.jpg',\n",
       "  'label': '3'},\n",
       " {'id': 'ee824a00-095c-11ec-a7ab-9fbdfd5c2672',\n",
       "  'imageurl': 'https://w.namu.la/s/913177a7b74dd75c06da601c4ffb1fbc0a68305baa9af08dd820e75ef53d7f1426f18c33bd887c262ba7c4d57f28b81db998d75940fb8887f8d0189c7c9916855e8c3c0d70a4d1279497f90e764ec4d1fa6697ccc73c4cce707fac68043b6bb4',\n",
       "  'label': '3'},\n",
       " {'id': '097a20d0-095d-11ec-997a-71bd17f52519',\n",
       "  'imageurl': 'http://image.auction.co.kr/itemimage/1d/2f/21/1d2f2107c6.jpg',\n",
       "  'label': '4'},\n",
       " {'id': '06cd0230-095d-11ec-997a-71bd17f52519',\n",
       "  'imageurl': 'http://image.koreatimes.com/article/2020/02/10/202002100750345e1.jpg',\n",
       "  'label': '4'},\n",
       " {'id': '07099600-095d-11ec-a13a-c1f056f06010',\n",
       "  'imageurl': 'http://img2.tmon.kr/cdn3/deals/2019/05/20/2089237714//2089237714_front_G8aAkU1P4i.jpg',\n",
       "  'label': '4'},\n",
       " {'id': '11039a20-095d-11ec-a13a-c1f056f06010',\n",
       "  'imageurl': 'http://th1.tmon.kr/thumbs/image/d41/ce1/59f/082d73a67_700x700_95_FIT.jpg',\n",
       "  'label': '4'},\n",
       " {'id': '1159a960-095d-11ec-a7ab-9fbdfd5c2672',\n",
       "  'imageurl': 'http://www.dunkindonuts.co.kr/upload/product/1549271397.png',\n",
       "  'label': '4'},\n",
       " {'id': '0ca2d810-095d-11ec-a7ab-9fbdfd5c2672',\n",
       "  'imageurl': 'https://blogthumb.pstatic.net/MjAxNzA5MTlfMTg4/MDAxNTA1ODA0MDY0OTQ1.opVNZpSU8XpVew0D2yuT1C13bGwknkVd1oIDqj6BVt0g.yF7Ym7-ZExyFLYhNBs5SFWaAMLPbYn9kjfxsRYGEdJIg.JPEG.gunah2333/%C7%D6%B5%B5%B1%D7.jpg?type=w2',\n",
       "  'label': '4'},\n",
       " {'id': '08ecd4f0-095d-11ec-997a-71bd17f52519',\n",
       "  'imageurl': 'https://cdn.univ20.com/wp-content/uploads/2015/10/c51ce410c124a10e0db5e4b97fc2af392.jpg',\n",
       "  'label': '4'},\n",
       " {'id': 'ff5710e0-095c-11ec-a7ab-9fbdfd5c2672',\n",
       "  'imageurl': 'https://i.ytimg.com/vi/xMTb669y2Ko/maxresdefault.jpg',\n",
       "  'label': '4'},\n",
       " {'id': '04414e40-095d-11ec-a7ab-9fbdfd5c2672',\n",
       "  'imageurl': 'https://image.g9.co.kr/g/1968904818/n?ts=1608013778000',\n",
       "  'label': '4'},\n",
       " {'id': '1074eeb0-095d-11ec-a7ab-9fbdfd5c2672',\n",
       "  'imageurl': 'https://img.maisonkorea.com/2015/09/msk_589c5e76111a6.jpg',\n",
       "  'label': '4'},\n",
       " {'id': '1269e0e0-095d-11ec-a13a-c1f056f06010',\n",
       "  'imageurl': 'https://post-phinf.pstatic.net/MjAxODA2MDdfNDQg/MDAxNTI4MzE1OTE0NDYz.KDamGDsJB8lzvR_kJmSJMMTPZiAPcEJq9el-wzQ_RVsg.Usca6o-YFnSY28k0e5jVg9WFbYQQy2uRlFNdgcK8ZS8g.PNG/HotDog.png?type=w1200',\n",
       "  'label': '4'},\n",
       " {'id': '0c8034e0-095d-11ec-a13a-c1f056f06010',\n",
       "  'imageurl': 'https://recipe1.ezmember.co.kr/cache/recipe/2018/09/26/289f75384a4a3f60b0ba8f418c3f08861.jpg',\n",
       "  'label': '4'},\n",
       " {'id': 'fe165380-095c-11ec-997a-71bd17f52519',\n",
       "  'imageurl': 'https://recipe1.ezmember.co.kr/cache/recipe/2019/03/18/3c84dd20e3ded9c198d207bb034ee8a21.jpg',\n",
       "  'label': '4'},\n",
       " {'id': '0585b520-095d-11ec-a13a-c1f056f06010',\n",
       "  'imageurl': 'https://torontogo.net/images/attach/525/20191028-11104083.jpeg',\n",
       "  'label': '4'},\n",
       " {'id': '010d2550-095d-11ec-a7ab-9fbdfd5c2672',\n",
       "  'imageurl': 'https://upload.wikimedia.org/wikipedia/commons/f/fe/HotDog.jpg',\n",
       "  'label': '4'},\n",
       " {'id': 'fece0ac0-095c-11ec-a7ab-9fbdfd5c2672',\n",
       "  'imageurl': 'https://www.yorivery.com/data/goods/1000000233_detail_032.jpg',\n",
       "  'label': '4'},\n",
       " {'id': '9c001cd0-0966-11ec-bfde-b1a953fbb3fd',\n",
       "  'imageurl': 'http://health.chosun.com/site/data/img_dir/2020/07/07/2020070703115_0.jpg',\n",
       "  'label': '5'},\n",
       " {'id': 'bfe2f8c0-0966-11ec-bfde-b1a953fbb3fd',\n",
       "  'imageurl': 'http://imagescdn.gettyimagesbank.com/500/201708/jv10937987.jpg',\n",
       "  'label': '5'},\n",
       " {'id': 'bed24c10-0966-11ec-bfde-b1a953fbb3fd',\n",
       "  'imageurl': 'http://res.heraldm.com/phpwas/restmb_idxmake.php?idx=307&simg=/content/image/2019/08/06/20190806000108_0.jpg',\n",
       "  'label': '5'},\n",
       " {'id': 'aa74d3a0-0966-11ec-b8dc-8952e61d9d5b',\n",
       "  'imageurl': 'http://res.heraldm.com/phpwas/restmb_idxmake.php?idx=507&simg=/content/image/2018/10/29/20181029000344_0.jpg',\n",
       "  'label': '5'},\n",
       " {'id': 'a7ea5830-0966-11ec-bfde-b1a953fbb3fd',\n",
       "  'imageurl': 'http://src.hidoc.co.kr/image/lib/2018/3/28/20180328145425104_0.jpg',\n",
       "  'label': '5'},\n",
       " {'id': 'c408fbc0-0966-11ec-bfde-b1a953fbb3fd',\n",
       "  'imageurl': 'http://www.bapsangnews.com/repository/image/jpeg/0/f/0fa6e1eceeada48bf466d443ea5e746a0000021750',\n",
       "  'label': '5'},\n",
       " {'id': 'a31ffee0-0966-11ec-b8dc-8952e61d9d5b',\n",
       "  'imageurl': 'http://www.sommeliertimes.com/news/photo/201809/10479_21273_4150.jpg',\n",
       "  'label': '5'},\n",
       " {'id': 'b09239d0-0966-11ec-b8dc-8952e61d9d5b',\n",
       "  'imageurl': 'https://blog.kakaocdn.net/dn/c2Gxup/btqz5Ar7a0X/fNey6KwuEF904BuS3HGk91/img.jpg',\n",
       "  'label': '5'},\n",
       " {'id': 'a50c8ca0-0966-11ec-bfde-b1a953fbb3fd',\n",
       "  'imageurl': 'https://blogthumb.pstatic.net/MjAxNzAyMTNfNzEg/MDAxNDg2OTYzNjIzMzkx.rGcztTDrS7WERmk37rPxyGV3TbHnuww1emEjTBmHdTIg.woDxBx_NHN-UHG9HilVh8grDZ3ijkOZCIpW328eIxEUg.JPEG.iggoom/img_0421.jpg?type=w2',\n",
       "  'label': '5'},\n",
       " {'id': 'c2178c00-0966-11ec-bfde-b1a953fbb3fd',\n",
       "  'imageurl': 'https://cdn.crowdpic.net/detail-thumb/thumb_d_C2E73B41E62E90FFD4BCD9408B9FFF8D.jpg',\n",
       "  'label': '5'},\n",
       " {'id': '9d93b520-0966-11ec-bfde-b1a953fbb3fd',\n",
       "  'imageurl': 'https://cdn.mkhealth.co.kr/news/photo/202106/53570_55048_1856.jpg',\n",
       "  'label': '5'},\n",
       " {'id': 'a6a7c610-0966-11ec-a6ae-431458273185',\n",
       "  'imageurl': 'https://cdn.newsfs.com/news/photo/201810/16563_14052_2936.jpg',\n",
       "  'label': '5'},\n",
       " {'id': 'ad5a4050-0966-11ec-a6ae-431458273185',\n",
       "  'imageurl': 'https://cdn.newsin.co.kr/news/photo/201802/68087_53063_3818.jpg',\n",
       "  'label': '5'},\n",
       " {'id': '9c17c380-0966-11ec-b8dc-8952e61d9d5b',\n",
       "  'imageurl': 'https://cloudfront-ap-northeast-1.images.arcpublishing.com/chosun/KVN4EOBHHWBWBTM54TGN64NR7Y.jpg',\n",
       "  'label': '5'},\n",
       " {'id': 'a8474540-0966-11ec-bfde-b1a953fbb3fd',\n",
       "  'imageurl': 'https://img.huffingtonpost.com/asset/5d80e1fb230000e903560154.jpeg?ops=1200_630',\n",
       "  'label': '5'},\n",
       " {'id': 'a12f5270-0966-11ec-b8dc-8952e61d9d5b',\n",
       "  'imageurl': 'https://img.insight.co.kr/static/2019/07/17/700/9e774ale0511z3p146p2.jpg',\n",
       "  'label': '5'},\n",
       " {'id': '9dbdd260-0966-11ec-bfde-b1a953fbb3fd',\n",
       "  'imageurl': 'https://img1.daumcdn.net/thumb/S560x400/?scode=1boon&fname=https://t1.daumcdn.net/liveboard/realfood/15addaf9416e49e482e315442a511f28.jpg',\n",
       "  'label': '5'},\n",
       " {'id': 'c18955c0-0966-11ec-a6ae-431458273185',\n",
       "  'imageurl': 'https://imgnn.seoul.co.kr/img/upload/2014/09/17/SSI_20140917111153_V.jpg',\n",
       "  'label': '5'},\n",
       " {'id': '9ab9ba20-0966-11ec-a6ae-431458273185',\n",
       "  'imageurl': 'https://post-phinf.pstatic.net/MjAxODEyMDNfMTgg/MDAxNTQzODE3MzU4MDQ1.nUgwzvfpxEq1Svu_CeGdZEqy27EAZdRZvJtk0Aawkbwg.HmSHCW0TrsTbLr4Uv1AJ_Fg-i78S9tB9krRTK9ajSjIg.JPEG/psx02d13817.jpg?type=w1200',\n",
       "  'label': '5'},\n",
       " {'id': '99dbdd40-0966-11ec-bfde-b1a953fbb3fd',\n",
       "  'imageurl': 'https://src.hidoc.co.kr/image/lib/2017/2/20/20170220172049981_0.jpg',\n",
       "  'label': '5'},\n",
       " {'id': 'c69cc600-0966-11ec-b8dc-8952e61d9d5b',\n",
       "  'imageurl': 'https://t1.daumcdn.net/cfile/tistory/253AC63E55F180CC39',\n",
       "  'label': '5'},\n",
       " {'id': 'a50560b0-0966-11ec-b8dc-8952e61d9d5b',\n",
       "  'imageurl': 'https://t1.daumcdn.net/liveboard/realfood/fe22e75fc6ee414f9d146666802e28b1.JPG',\n",
       "  'label': '5'},\n",
       " {'id': '9e2546c0-0966-11ec-a6ae-431458273185',\n",
       "  'imageurl': 'https://ww.namu.la/s/7aeac70c734963139f7e86569f324e2e4e687fca3767dc6e415d6a0a20e032dc932c245ace59036f9a114a609da373b571c8a3c6d003c65712b153abaefcaafa1a890f150eb111394c4dc248b01a04a038f7658d6577d20862debb74f36c96c35217fd2a6f3ec5e6b26e3aecf8d371b3',\n",
       "  'label': '5'},\n",
       " {'id': 'a0f15f10-0966-11ec-b8dc-8952e61d9d5b',\n",
       "  'imageurl': 'https://www.cjthemarket.com/cjom/design/detail/prd_deatil_40066444_03.jpg',\n",
       "  'label': '5'},\n",
       " {'id': 'a2cc60a0-0966-11ec-bfde-b1a953fbb3fd',\n",
       "  'imageurl': 'https://www.pn.co.kr/file/board/1618893689228_GettyImages-1063687698.jpg',\n",
       "  'label': '5'},\n",
       " {'id': 'd67fd9e0-0966-11ec-b8dc-8952e61d9d5b',\n",
       "  'imageurl': 'https://blog.kakaocdn.net/dn/Xsk3V/btqO7id0UFg/WJwHhx3pR64nRPtuMQuvY0/img.jpg',\n",
       "  'label': '6'},\n",
       " {'id': 'd70b02e0-0966-11ec-b8dc-8952e61d9d5b',\n",
       "  'imageurl': 'https://i.ytimg.com/vi/KXVt6WKLbM0/maxresdefault.jpg',\n",
       "  'label': '6'},\n",
       " {'id': 'd6bac000-0966-11ec-a6ae-431458273185',\n",
       "  'imageurl': 'https://recipe1.ezmember.co.kr/cache/recipe/2018/01/17/893c7eea09a14722d23822432bd69a7f1.jpg',\n",
       "  'label': '6'},\n",
       " {'id': 'd18ebeb0-0966-11ec-a6ae-431458273185',\n",
       "  'imageurl': 'https://recipe1.ezmember.co.kr/cache/recipe/2019/02/10/5d4289fb101abbe27c28cd65759d23d31.jpg',\n",
       "  'label': '6'},\n",
       " {'id': 'd31c6390-0966-11ec-a6ae-431458273185',\n",
       "  'imageurl': 'https://recipe1.ezmember.co.kr/cache/recipe/2020/07/24/c599da802f35f12e11a53bbefd4700691.jpg',\n",
       "  'label': '6'},\n",
       " {'id': 'cf2c1690-0966-11ec-b8dc-8952e61d9d5b',\n",
       "  'imageurl': 'https://static.wtable.co.kr/image/production/service/recipe/170/88f14bd3-d922-4d67-8c38-1dcf9fee27bc.jpg',\n",
       "  'label': '6'},\n",
       " {'id': 'd47a45e0-0966-11ec-a6ae-431458273185',\n",
       "  'imageurl': 'https://t1.daumcdn.net/cfile/tistory/9998B74F5A529F061C',\n",
       "  'label': '6'},\n",
       " {'id': 'd562f830-0966-11ec-bfde-b1a953fbb3fd',\n",
       "  'imageurl': 'https://www.paris.co.kr/wp-content/uploads/200312-_670-1280x1280.jpg',\n",
       "  'label': '6'},\n",
       " {'id': '0f39a400-0967-11ec-a6ae-431458273185',\n",
       "  'imageurl': 'https://w.namu.la/s/094f46862c2afa34f65c24ab71bcc841102651152aa1d94b17e98b15e48a03d9cf0543e4a1fb8053dd91dbb20e70ae8b5234631d5a62b2a1b4e5f2fa232717e3495f0f39a3726de5352ee76e9c42c64d2f900e15c773fd67fb9cfae83b0c26691ac496f8645f7557aa2a46521053e64c',\n",
       "  'label': '7'}]"
      ]
     },
     "execution_count": 4,
     "metadata": {},
     "output_type": "execute_result"
    }
   ],
   "source": [
    "json.loads(t)"
   ]
  },
  {
   "cell_type": "code",
   "execution_count": null,
   "metadata": {},
   "outputs": [],
   "source": []
  }
 ],
 "metadata": {
  "kernelspec": {
   "display_name": "Python 3",
   "language": "python",
   "name": "python3"
  },
  "language_info": {
   "codemirror_mode": {
    "name": "ipython",
    "version": 3
   },
   "file_extension": ".py",
   "mimetype": "text/x-python",
   "name": "python",
   "nbconvert_exporter": "python",
   "pygments_lexer": "ipython3",
   "version": "3.8.5"
  }
 },
 "nbformat": 4,
 "nbformat_minor": 4
}
